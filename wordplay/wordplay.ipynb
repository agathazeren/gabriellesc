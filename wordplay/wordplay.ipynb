{
 "cells": [
  {
   "cell_type": "markdown",
   "metadata": {},
   "source": [
    "## In the official SOWPODS Scrabble dictionary..."
   ]
  },
  {
   "cell_type": "code",
   "execution_count": null,
   "metadata": {
    "scrolled": true
   },
   "outputs": [],
   "source": [
    "var fetch = require('node-fetch');\n",
    "\n",
    "var src = 'https://raw.githubusercontent.com/jesstess/Scrabble/master/scrabble/sowpods.txt';\n",
    "var words;\n",
    "\n",
    "// fetch and clean the dictionary\n",
    "fetch(src)\n",
    "    .then(resp => resp.text())\n",
    "    .then(text => (words = text.split(/\\r*\\n/g)))\n",
    "    .then(() => console.log(words.length + ' words in total'));"
   ]
  },
  {
   "cell_type": "markdown",
   "metadata": {},
   "source": [
    "## What words contain \"UU\"?"
   ]
  },
  {
   "cell_type": "code",
   "execution_count": null,
   "metadata": {},
   "outputs": [],
   "source": [
    "words.filter(word => word.match(/UU/));"
   ]
  },
  {
   "cell_type": "markdown",
   "metadata": {},
   "source": [
    "### What is the big-O complexity of the solution?\n",
    "\n",
    "### What is another way of solving the problem?\n",
    "\n",
    "### Is there a faster solution?"
   ]
  },
  {
   "cell_type": "markdown",
   "metadata": {},
   "source": [
    "## What words contain \"Q\" without \"U\"?"
   ]
  },
  {
   "cell_type": "code",
   "execution_count": null,
   "metadata": {},
   "outputs": [],
   "source": [
    "words.filter(word => word.match(/^[^U]*Q[^U]*$/));"
   ]
  },
  {
   "cell_type": "markdown",
   "metadata": {},
   "source": [
    "### What is the big-O complexity of the solution?\n",
    "\n",
    "### What is another way of solving the problem?\n",
    "\n",
    "### Is there a faster solution?"
   ]
  },
  {
   "cell_type": "markdown",
   "metadata": {},
   "source": [
    "## What letters, if any, never appear doubled?"
   ]
  },
  {
   "cell_type": "code",
   "execution_count": null,
   "metadata": {},
   "outputs": [],
   "source": [
    "var undoubled = 'ABCDEFGHIJKLMNOPQRSTUVWXYZ'.split(''); // letters that have not appeared doubled\n",
    "\n",
    "for (var word of words) {\n",
    "    if (!undoubled) { // if all the letters have already appeared doubled, stop looking\n",
    "        break;\n",
    "    }\n",
    "\n",
    "    var letters = word.match(/([A-Z])\\1/g); // match any letters that are doubled in the word\n",
    "    \n",
    "    if (letters) {\n",
    "        letters.forEach(letter => {\n",
    "            var i = undoubled.indexOf(letter[0]);\n",
    "            \n",
    "            // if the letter has not previously appeared doubled, remove it from undoubled\n",
    "            if (i != -1) {\n",
    "                undoubled.splice(i, 1);\n",
    "            }\n",
    "        });\n",
    "    }\n",
    "}\n",
    "\n",
    "console.log(undoubled);"
   ]
  },
  {
   "cell_type": "markdown",
   "metadata": {},
   "source": [
    "### What is the big-O complexity of the solution?\n",
    "\n",
    "### What is another way of solving the problem?\n",
    "\n",
    "### Is there a faster solution?"
   ]
  },
  {
   "cell_type": "markdown",
   "metadata": {},
   "source": [
    "## What is the longest palindrome?"
   ]
  },
  {
   "cell_type": "code",
   "execution_count": null,
   "metadata": {},
   "outputs": [],
   "source": [
    "// find all palindromes\n",
    "var pals = words.filter(word => {\n",
    "    var start = 0, end = word.length - 1;\n",
    "\n",
    "    // advance the start and end indices until they meet\n",
    "    while (start < end) {\n",
    "        // if the letters at start and end do not match, the word is not a palindrome\n",
    "        if (word[start] != word[end]) {\n",
    "            return false;\n",
    "        }\n",
    "        start += 1;\n",
    "        end -= 1;\n",
    "    }\n",
    "    return true;\n",
    "});\n",
    "\n",
    "// find the longest palindrome by examining the length of each\n",
    "var maxLen = 0, maxPal = [];\n",
    "\n",
    "for (var pal of pals) {\n",
    "    var palLen = pal.length;\n",
    "\n",
    "    // this palindrome is as long as the previous longest\n",
    "    if (palLen == maxLen) {\n",
    "        maxPal.push(pal);\n",
    "        \n",
    "    // this palindrome is longer than the previous longest\n",
    "    } else if (palLen > maxLen) {\n",
    "        maxLen = palLen;\n",
    "        maxPal = [pal];\n",
    "    }\n",
    "}\n",
    "\n",
    "console.log(maxPal);"
   ]
  },
  {
   "cell_type": "markdown",
   "metadata": {},
   "source": [
    "### What is the big-O complexity of the solution?\n",
    "\n",
    "### What is another way of solving the problem?\n",
    "\n",
    "### Is there a faster solution?"
   ]
  },
  {
   "cell_type": "markdown",
   "metadata": {},
   "source": [
    "## What words contain all of the vowels and Y, in any order?"
   ]
  },
  {
   "cell_type": "code",
   "execution_count": null,
   "metadata": {},
   "outputs": [],
   "source": [
    "words.filter(word => word.match(/.*A.*E.*I.*O.*U.*Y/));"
   ]
  },
  {
   "cell_type": "markdown",
   "metadata": {},
   "source": [
    "### What is the big-O complexity of the solution?\n",
    "\n",
    "### What is another way of solving the problem?\n",
    "\n",
    "### Is there a faster solution?"
   ]
  },
  {
   "cell_type": "markdown",
   "metadata": {},
   "source": [
    "## What words contain all of the vowels and Y, in alphabetical order?"
   ]
  },
  {
   "cell_type": "code",
   "execution_count": null,
   "metadata": {},
   "outputs": [],
   "source": [
    "// find the words containing all the vowels and Y in any order\n",
    "words.filter(word => word.match(/.*A.*E.*I.*O.*U.*Y/))\n",
    "    // extract the vowels and Y from those words\n",
    "    .filter(word => word.match(/[AEIOUY]/g)\n",
    "                        // check that the vowels and Y occur in alphabetical order\n",
    "                        .reduce((prev, curr) => curr >= prev ? curr : false));"
   ]
  },
  {
   "cell_type": "markdown",
   "metadata": {},
   "source": [
    "### What is the big-O complexity of the solution?\n",
    "\n",
    "### What is another way of solving the problem?\n",
    "\n",
    "### Is there a faster solution?"
   ]
  },
  {
   "cell_type": "markdown",
   "metadata": {},
   "source": [
    "## What letter makes the most appearances in a single word, and what is that word?"
   ]
  },
  {
   "cell_type": "code",
   "execution_count": null,
   "metadata": {
    "scrolled": true
   },
   "outputs": [],
   "source": [
    "// frequencies (# of appearances) of letters in each word\n",
    "var freqs = { 'A': 0, 'B': 0, 'C': 0, 'D': 0, 'E': 0, 'F': 0, 'G': 0, 'H': 0, 'I': 0,\n",
    "              'J': 0, 'K': 0, 'L': 0, 'M': 0, 'N': 0, 'O': 0, 'P': 0, 'Q': 0, 'R': 0,\n",
    "              'S': 0, 'T': 0, 'U': 0, 'V': 0, 'W': 0, 'X': 0, 'Y': 0, 'Z': 0 };\n",
    "\n",
    "// maxLetter: the letter(s) that appear most frequently, mapped to a list of the \n",
    "// word(s) in which they appear most frequently\n",
    "var maxFreq = 0, maxLetter = {};\n",
    "\n",
    "for (var word of words) {\n",
    "    // calculate the frequency of each letter in this word\n",
    "    for (var letter of word) {\n",
    "        freqs[letter] += 1;\n",
    "    }\n",
    "\n",
    "    for (var letter in freqs) {  \n",
    "        // the frequency of this letter is higher than the previous highest frequency of any letter\n",
    "        // (i.e., this letter makes the most appearances in any word so far)\n",
    "        if (freqs[letter] > maxFreq) {\n",
    "            maxFreq = freqs[letter];\n",
    "            maxLetter = { [letter]: [word] };\n",
    "\n",
    "        // the frequency of this letter is equal to the previous highest frequency of any letter\n",
    "        // (i.e., this letter and other letters make the most appearances so far)\n",
    "        } else if (freqs[letter] && freqs[letter] == maxFreq) {\n",
    "            \n",
    "            // this letter has also appeared with this frequency in another word\n",
    "            if (maxLetter[letter]) {\n",
    "                maxLetter[letter].push(word);\n",
    "            } else {\n",
    "                maxLetter[letter] = [word];\n",
    "            }\n",
    "        }\n",
    "    \n",
    "        // reset the frequency of this letter to 0, for the next word\n",
    "        freqs[letter] = 0;\n",
    "    }\n",
    "}\n",
    "\n",
    "console.log(maxLetter);"
   ]
  },
  {
   "cell_type": "markdown",
   "metadata": {},
   "source": [
    "### What is the big-O complexity of the solution?\n",
    "\n",
    "### What is another way of solving the problem?\n",
    "\n",
    "### Is there a faster solution?"
   ]
  },
  {
   "cell_type": "markdown",
   "metadata": {},
   "source": [
    "## What words are the longest anagrams of each other?"
   ]
  },
  {
   "cell_type": "code",
   "execution_count": null,
   "metadata": {},
   "outputs": [],
   "source": [
    "// map of letters to unique primes\n",
    "var primes = { 'A': 2, 'B': 3, 'C': 5, 'D': 7, 'E': 11, 'F': 13, 'G': 17, 'H': 19, 'I': 23,\n",
    "               'J': 29, 'K': 31, 'L': 37, 'M': 41, 'N': 43, 'O': 47, 'P': 53, 'Q': 59, 'R': 61,\n",
    "               'S': 67, 'T': 71, 'U': 73, 'V': 79, 'W': 83, 'X': 89, 'Y': 97, 'Z': 101 };\n",
    " \n",
    "// hash each word as a product of the primes corresponding to its letters\n",
    "var hashmap = {};\n",
    "for (var word of words) {\n",
    "    var key = word.split('').reduce((prod, letter) => primes[letter] * prod, 1);\n",
    "\n",
    "    if (hashmap[key]) {\n",
    "        hashmap[key].push(word);\n",
    "    } else {\n",
    "        hashmap[key] = [word];\n",
    "    }\n",
    "}\n",
    "\n",
    "var maxLen = 0, maxAna = [];\n",
    "for (var key in hashmap) {\n",
    "    // multiple words had the same hash (i.e., these words are anagrams of each other)\n",
    "    if (hashmap[key].length > 1) {\n",
    "        var anaLen = hashmap[key][0].length; // length of the words\n",
    "    \n",
    "        // these words are the same length as the previous longest anagrams\n",
    "        if (anaLen == maxLen) {\n",
    "            maxAna.push(hashmap[key]);\n",
    "            \n",
    "        // these words are longer than the previous longest anagrams\n",
    "        } else if (anaLen > maxLen) {\n",
    "            maxLen = anaLen;\n",
    "            maxAna = [hashmap[key]];\n",
    "        }\n",
    "    }\n",
    "}\n",
    "\n",
    "console.log(maxAna);"
   ]
  },
  {
   "cell_type": "markdown",
   "metadata": {},
   "source": [
    "### What is the big-O complexity of the solution?\n",
    "\n",
    "### What is another way of solving the problem?\n",
    "\n",
    "### Is there a faster solution?"
   ]
  },
  {
   "cell_type": "markdown",
   "metadata": {},
   "source": [
    "## Scrabble cheater\n",
    "Write a program that takes a Scrabble rack as a command-line argument and prints all valid Scrabble words that can be constructed from that rack, along with their Scrabble scores, sorted by score."
   ]
  },
  {
   "cell_type": "code",
   "execution_count": null,
   "metadata": {},
   "outputs": [],
   "source": [
    "// scores for each letter in Scrabble\n",
    "var scores = {\"a\": 1, \"c\": 3, \"b\": 3, \"e\": 1, \"d\": 2, \"g\": 2,\n",
    "              \"f\": 4, \"i\": 1, \"h\": 4, \"k\": 5, \"j\": 8, \"m\": 3,\n",
    "              \"l\": 1, \"o\": 1, \"n\": 1, \"q\": 10, \"p\": 3, \"s\": 1,\n",
    "              \"r\": 1, \"u\": 1, \"t\": 1, \"w\": 4, \"v\": 4, \"y\": 4,\n",
    "              \"x\": 8, \"z\": 10}"
   ]
  },
  {
   "cell_type": "markdown",
   "metadata": {},
   "source": [
    "### Bonus\n",
    "Modify your program to allow blank tiles, which can be used as any letter but contribute no points to the word score. "
   ]
  },
  {
   "cell_type": "code",
   "execution_count": null,
   "metadata": {},
   "outputs": [],
   "source": []
  }
 ],
 "metadata": {
  "kernelspec": {
   "display_name": "Javascript (Node.js)",
   "language": "javascript",
   "name": "javascript"
  },
  "language_info": {
   "file_extension": ".js",
   "mimetype": "application/javascript",
   "name": "javascript",
   "version": "8.9.4"
  }
 },
 "nbformat": 4,
 "nbformat_minor": 2
}
