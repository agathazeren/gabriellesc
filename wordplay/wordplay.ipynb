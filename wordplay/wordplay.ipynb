{
 "cells": [
  {
   "cell_type": "markdown",
   "metadata": {},
   "source": [
    "# In the official SOWPODS Scrabble dictionary..."
   ]
  },
  {
   "cell_type": "code",
   "execution_count": 2,
   "metadata": {
    "scrolled": true
   },
   "outputs": [
    {
     "name": "stdout",
     "output_type": "stream",
     "text": [
      "267751 words in total\n"
     ]
    }
   ],
   "source": [
    "var fetch = require('node-fetch');\n",
    "\n",
    "var src = 'https://raw.githubusercontent.com/jesstess/Scrabble/master/scrabble/sowpods.txt';\n",
    "var dict;\n",
    "\n",
    "// fetch and clean the dictionary\n",
    "fetch(src)\n",
    "    .then(resp => resp.text())\n",
    "    .then(text => {\n",
    "        dict = text.split(/\\r*\\n/g);\n",
    "        dict = dict.filter(word => word.length); // remove any empty words\n",
    "    \n",
    "        console.log(dict.length + ' words in total');\n",
    "    });"
   ]
  },
  {
   "cell_type": "markdown",
   "metadata": {},
   "source": [
    "# What words contain \"UU\"?"
   ]
  },
  {
   "cell_type": "code",
   "execution_count": 2,
   "metadata": {},
   "outputs": [
    {
     "data": {
      "text/plain": [
       "[ 'BUSUUTI',\n",
       "  'BUSUUTIS',\n",
       "  'CARDUUS',\n",
       "  'CARDUUSES',\n",
       "  'CONTINUUM',\n",
       "  'CONTINUUMS',\n",
       "  'DUUMVIR',\n",
       "  'DUUMVIRAL',\n",
       "  'DUUMVIRATE',\n",
       "  'DUUMVIRATES',\n",
       "  'DUUMVIRI',\n",
       "  'DUUMVIRS',\n",
       "  'INDIVIDUUM',\n",
       "  'LITUUS',\n",
       "  'LITUUSES',\n",
       "  'MENSTRUUM',\n",
       "  'MENSTRUUMS',\n",
       "  'MUTUUM',\n",
       "  'MUTUUMS',\n",
       "  'MUUMUU',\n",
       "  'MUUMUUS',\n",
       "  'PARAMENSTRUUM',\n",
       "  'PARAMENSTRUUMS',\n",
       "  'RESIDUUM',\n",
       "  'RESIDUUMS',\n",
       "  'SQUUSH',\n",
       "  'SQUUSHED',\n",
       "  'SQUUSHES',\n",
       "  'SQUUSHING',\n",
       "  'TRIDUUM',\n",
       "  'TRIDUUMS',\n",
       "  'ULTRAVACUUM',\n",
       "  'ULTRAVACUUMS',\n",
       "  'VACUUM',\n",
       "  'VACUUMED',\n",
       "  'VACUUMING',\n",
       "  'VACUUMS',\n",
       "  'WELTANSCHAUUNG',\n",
       "  'WELTANSCHAUUNGS' ]"
      ]
     },
     "execution_count": 2,
     "metadata": {},
     "output_type": "execute_result"
    }
   ],
   "source": [
    "dict.filter(word => /UU/.test(word));"
   ]
  },
  {
   "cell_type": "markdown",
   "metadata": {},
   "source": [
    "### What is the big-O complexity of the solution?\n",
    "\n",
    "The solution is $O(n)$ for an input word of length $n$ (with the coefficient of $n$ depending on the [regex matcher implementation](https://en.wikibooks.org/wiki/Regular_Expressions/Implementation)).\n",
    "\n",
    "### What is another way of solving the problem?\n",
    "\n",
    "Other ways of solving the problem are either directly equivalent to or less efficient than this method.  \n",
    "For example, we could implement filtering and regex matching ourselves ($O(n)$):"
   ]
  },
  {
   "cell_type": "code",
   "execution_count": null,
   "metadata": {
    "deletable": false,
    "editable": false,
    "run_control": {
     "frozen": true
    }
   },
   "outputs": [],
   "source": [
    "var UU = [];\n",
    "\n",
    "for (var word of dict) {\n",
    "    for (var i = 0; i < word.length - 1; i++) {\n",
    "        // equivalent to regex matching\n",
    "        if (word[i] == 'U') {\n",
    "            if (word[i+1] == 'U') {\n",
    "                UU.push(word);\n",
    "                break;\n",
    "                \n",
    "            } else {\n",
    "                i++; // skip the following letter, since it can't be the start of 'UU'\n",
    "            }\n",
    "        }\n",
    "    }\n",
    "}"
   ]
  },
  {
   "cell_type": "markdown",
   "metadata": {},
   "source": [
    "### Is there a faster solution?\n",
    "\n",
    "There is no faster solution: in the worst case (the word doesn't contain \"UU\"), all $n$ letters in a word must be examined to check for a match with this regular expression."
   ]
  },
  {
   "cell_type": "markdown",
   "metadata": {},
   "source": [
    "# What words contain \"Q\" without \"U\"?"
   ]
  },
  {
   "cell_type": "code",
   "execution_count": 3,
   "metadata": {},
   "outputs": [
    {
     "data": {
      "text/plain": [
       "[ 'FAQIR',\n",
       "  'FAQIRS',\n",
       "  'INQILAB',\n",
       "  'INQILABS',\n",
       "  'MBAQANGA',\n",
       "  'MBAQANGAS',\n",
       "  'NIQAB',\n",
       "  'NIQABS',\n",
       "  'QABALA',\n",
       "  'QABALAH',\n",
       "  'QABALAHS',\n",
       "  'QABALAS',\n",
       "  'QABALISM',\n",
       "  'QABALISMS',\n",
       "  'QABALIST',\n",
       "  'QABALISTIC',\n",
       "  'QABALISTS',\n",
       "  'QADI',\n",
       "  'QADIS',\n",
       "  'QAID',\n",
       "  'QAIDS',\n",
       "  'QAIMAQAM',\n",
       "  'QAIMAQAMS',\n",
       "  'QALAMDAN',\n",
       "  'QALAMDANS',\n",
       "  'QANAT',\n",
       "  'QANATS',\n",
       "  'QASIDA',\n",
       "  'QASIDAS',\n",
       "  'QAT',\n",
       "  'QATS',\n",
       "  'QAWWAL',\n",
       "  'QAWWALI',\n",
       "  'QAWWALIS',\n",
       "  'QAWWALS',\n",
       "  'QI',\n",
       "  'QIBLA',\n",
       "  'QIBLAS',\n",
       "  'QIGONG',\n",
       "  'QIGONGS',\n",
       "  'QINDAR',\n",
       "  'QINDARKA',\n",
       "  'QINDARS',\n",
       "  'QINTAR',\n",
       "  'QINTARS',\n",
       "  'QIS',\n",
       "  'QOPH',\n",
       "  'QOPHS',\n",
       "  'QORMA',\n",
       "  'QORMAS',\n",
       "  'QWERTIES',\n",
       "  'QWERTY',\n",
       "  'QWERTYS',\n",
       "  'SHEQALIM',\n",
       "  'SHEQEL',\n",
       "  'SHEQELS',\n",
       "  'TALAQ',\n",
       "  'TALAQS',\n",
       "  'TRANQ',\n",
       "  'TRANQS',\n",
       "  'TSADDIQ',\n",
       "  'TSADDIQIM',\n",
       "  'TSADDIQS',\n",
       "  'TZADDIQ',\n",
       "  'TZADDIQIM',\n",
       "  'TZADDIQS',\n",
       "  'WAQF',\n",
       "  'WAQFS',\n",
       "  'YAQONA',\n",
       "  'YAQONAS' ]"
      ]
     },
     "execution_count": 3,
     "metadata": {},
     "output_type": "execute_result"
    }
   ],
   "source": [
    "// match any number of characters other than 'U', then 'Q', then any number of characters other than 'U'\n",
    "dict.filter(word => /^[^U]*Q[^U]*$/.test(word));"
   ]
  },
  {
   "cell_type": "markdown",
   "metadata": {},
   "source": [
    "### What is the big-O complexity of the solution?\n",
    "\n",
    "The solution is $O(n)$ for an input word of length $n$ (with the coefficient of $n$ depending on the [regex matcher implementation](https://en.wikibooks.org/wiki/Regular_Expressions/Implementation)).\n",
    "\n",
    "### What is another way of solving the problem?\n",
    "\n",
    "Other ways of solving the problem are either directly equivalent to or less efficient than this method.  \n",
    "For example, we could filter by words containing \"Q\" and then by words not containing \"U\" ($O(n^2)$):"
   ]
  },
  {
   "cell_type": "code",
   "execution_count": null,
   "metadata": {
    "deletable": false,
    "editable": false,
    "run_control": {
     "frozen": true
    }
   },
   "outputs": [],
   "source": [
    "dict.filter(word => /Q/.test(word))\n",
    "    .filter(word => !/U/.test(word));"
   ]
  },
  {
   "cell_type": "markdown",
   "metadata": {},
   "source": [
    "### Is there a faster solution?\n",
    "\n",
    "There is no faster solution: in the worst case (the word doesn't contain either \"Q\" or \"U\"), all $n$ letters in a word must be examined to check for a match with this regular expression."
   ]
  },
  {
   "cell_type": "markdown",
   "metadata": {},
   "source": [
    "# What letters, if any, never appear doubled?"
   ]
  },
  {
   "cell_type": "code",
   "execution_count": 4,
   "metadata": {},
   "outputs": [
    {
     "name": "stdout",
     "output_type": "stream",
     "text": [
      "[ 'Q', 'X' ]\n"
     ]
    }
   ],
   "source": [
    "var undoubled = 'ABCDEFGHIJKLMNOPQRSTUVWXYZ'; // letters that have not appeared doubled\n",
    "\n",
    "for (var word of dict) {\n",
    "    for (var i = 0; i < word.length - 1; i++) {\n",
    "        // if all the letters have already appeared doubled, stop looking\n",
    "        if (!undoubled) {\n",
    "            break;\n",
    "        }\n",
    "        \n",
    "        if (word[i] == word[i+1]) {\n",
    "            // remove a doubled letter\n",
    "            undoubled = undoubled.replace(word[i], '');\n",
    "            i++;\n",
    "        }\n",
    "    }\n",
    "}\n",
    "\n",
    "console.log(undoubled.split(''));"
   ]
  },
  {
   "cell_type": "markdown",
   "metadata": {},
   "source": [
    "### What is the big-O complexity of the solution?\n",
    "\n",
    "The solution is $O(n)$ for a set of input words of total length $n$ (that is, $n$ is the sum of the lengths of all of the words in the set).  \n",
    "Alternatively, the solution is $O(m)$ for a set of input words of size $m$ (that is, there are $m$ words in the set).\n",
    "\n",
    "### What is another way of solving the problem?\n",
    "\n",
    "Other ways of solving the problem are either directly equivalent to or less efficient than this method.  \n",
    "For example, we could search for each pair of doubled letters individually ($O(n)$, with a larger coefficient of $n$ than in the original solution):"
   ]
  },
  {
   "cell_type": "code",
   "execution_count": null,
   "metadata": {
    "deletable": false,
    "editable": false,
    "run_control": {
     "frozen": true
    }
   },
   "outputs": [],
   "source": [
    "var undoubled = [],\n",
    "    doubled;\n",
    "\n",
    "for (var letter of 'ABCDEFGHIJKLMNOPQRSTUVWXYZ') {\n",
    "    var regex = new RegExp(letter + letter); // construct a regex matching the current letter, doubled\n",
    "    doubled = false;\n",
    "    \n",
    "    // search for the doubled letter in each word\n",
    "    for (var word of dict) {\n",
    "        if (regex.test(word)) {\n",
    "            doubled = true;\n",
    "            break;\n",
    "        }\n",
    "    }\n",
    "\n",
    "    // if the letter has not appeared doubled in any word, add it to undoubled    \n",
    "    if (!doubled) {\n",
    "        undoubled.push(letter);\n",
    "    }\n",
    "}"
   ]
  },
  {
   "cell_type": "markdown",
   "metadata": {},
   "source": [
    "### Is there a faster solution?\n",
    "\n",
    "There is no faster solution: in the worst case (no letters ever appear doubled), every letter of every word must be examined to look for a doubled letter."
   ]
  },
  {
   "cell_type": "markdown",
   "metadata": {},
   "source": [
    "# What is the longest palindrome?"
   ]
  },
  {
   "cell_type": "code",
   "execution_count": 5,
   "metadata": {},
   "outputs": [
    {
     "name": "stdout",
     "output_type": "stream",
     "text": [
      "[ 'ROTAVATOR' ]\n"
     ]
    }
   ],
   "source": [
    "var maxLen = 0, \n",
    "    maxPal = [];\n",
    "\n",
    "for (var word of dict) {\n",
    "    var wordLen = word.length;\n",
    "\n",
    "    // advance the start and end indices until they meet\n",
    "    for (var start = 0, end = wordLen - 1; \n",
    "         // if the letters at start and end do not match, the word is not a palindrome\n",
    "         start < end && word[start] == word[end];\n",
    "         start++, end--);\n",
    "    \n",
    "    // if the start and end indices met, the word is a palindrome\n",
    "    if (start >= end) {\n",
    "        if (wordLen > maxLen) {\n",
    "            // this palindrome is longer than the previous longest\n",
    "            maxLen = wordLen;\n",
    "            maxPal = [word];\n",
    "\n",
    "        } else if (wordLen == maxLen) {\n",
    "            // this palindrome is as long as the previous longest\n",
    "            maxPal.push(word);\n",
    "        }\n",
    "    }\n",
    "}\n",
    "\n",
    "console.log(maxPal);"
   ]
  },
  {
   "cell_type": "markdown",
   "metadata": {},
   "source": [
    "### What is the big-O complexity of the solution?\n",
    "\n",
    "The solution is $O(n)$ for a set of input words of total length $n$ (that is, $n$ is the sum of the lengths of all of the words in the set).  \n",
    "\n",
    "### What is another way of solving the problem?\n",
    "\n",
    "Other ways of solving the problem are either directly equivalent to or less efficient than this method.  \n",
    "For example, we could sort the words by decreasing length and then search for a palindrome from the start.\n",
    "With a typical comparison-based sorting algorithm, in the worst case (none of the words are palindromes), this is $O(m\\log(m) + n)$, where $m$ is the total number of input words."
   ]
  },
  {
   "cell_type": "code",
   "execution_count": null,
   "metadata": {
    "deletable": false,
    "editable": false,
    "run_control": {
     "frozen": true
    }
   },
   "outputs": [],
   "source": [
    "// make a copy of the list of words and sort it in-place by decreasing length\n",
    "var sortDict = [...dict];\n",
    "sortDict.sort((wordA, wordB) => wordA.length > wordB.length ? -1 : 1);\n",
    "\n",
    "var maxPal = [],\n",
    "    maxLen = 0;\n",
    "    \n",
    "for (var word of sortDict) {\n",
    "    // we have checked all the words of the same or greater length as the longest \n",
    "    // palindrome, so stop looking\n",
    "    if (word.length < maxLen) {\n",
    "        break;\n",
    "    }\n",
    "    \n",
    "    // advance the start and end indices until they meet\n",
    "    for (var start = 0, end = word.length - 1;\n",
    "         // if the letters at start and end do not match, the word is not a palindrome\n",
    "         start < end && word[start] == word[end];\n",
    "         start++, end--);\n",
    "    \n",
    "    // if the start and end indices met, the word is a palindrome\n",
    "    if (start >= end) {\n",
    "        maxPal.push(word);\n",
    "        maxLen = word.length;\n",
    "    }\n",
    "}"
   ]
  },
  {
   "cell_type": "markdown",
   "metadata": {},
   "source": [
    "### Is there a faster solution?\n",
    "\n",
    "There is no faster solution: in the worst case (every word is a palindrome), every letter of each word must be examined to verify that it is a palindrome."
   ]
  },
  {
   "cell_type": "markdown",
   "metadata": {},
   "source": [
    "# What words contain all of the vowels and Y, in any order?"
   ]
  },
  {
   "cell_type": "code",
   "execution_count": 6,
   "metadata": {},
   "outputs": [
    {
     "name": "stdout",
     "output_type": "stream",
     "text": [
      "[ 'ABSTEMIOUSLY',\n",
      "  'ACTINOMYCETOUS',\n",
      "  'ADVENTITIOUSLY',\n",
      "  'AERONAUTICALLY',\n",
      "  'ALUMINOTHERMY',\n",
      "  'AMARYLLIDACEOUS',\n",
      "  'AMBIDEXTROUSLY',\n",
      "  'ANEUPLOIDY',\n",
      "  'ANTIREGULATORY',\n",
      "  'APODYTERIUM',\n",
      "  'APODYTERIUMS',\n",
      "  'AUDIOMETRICALLY',\n",
      "  'AUDIOMETRY',\n",
      "  'AUTHORITATIVELY',\n",
      "  'AUTOECIOUSLY',\n",
      "  'AUTOTETRAPLOIDY',\n",
      "  'AUTOTYPIES',\n",
      "  'AYUNTAMIENTO',\n",
      "  'AYUNTAMIENTOS',\n",
      "  'BASIDIOMYCETOUS',\n",
      "  'BEHAVIOURALLY',\n",
      "  'BIMOLECULARLY',\n",
      "  'BUOYANCIES',\n",
      "  'CALYCOIDEOUS',\n",
      "  'CLEISTOGAMOUSLY',\n",
      "  'COEDUCATIONALLY',\n",
      "  'COEQUALITY',\n",
      "  'COEVOLUTIONARY',\n",
      "  'COMMUNICATIVELY',\n",
      "  'COMMUTATIVELY',\n",
      "  'CONCEPTUALITY',\n",
      "  'CONSEQUENTIALLY',\n",
      "  'CONSUETUDINARY',\n",
      "  'CONSULTATIVELY',\n",
      "  'CONTINUATIVELY',\n",
      "  'COPULATIVELY',\n",
      "  'CORYNEBACTERIUM',\n",
      "  'COULOMETRICALLY',\n",
      "  'COUNTERACTIVELY',\n",
      "  'COUNTERCYCLICAL',\n",
      "  'COUNTERRALLYING',\n",
      "  'CYANOBACTERIUM',\n",
      "  'CYLINDRACEOUS',\n",
      "  'CYTOMEGALOVIRUS',\n",
      "  'DAGUERREOTYPIES',\n",
      "  'DAGUERREOTYPING',\n",
      "  'DAGUERREOTYPIST',\n",
      "  'DELUSIONARY',\n",
      "  'DENUNCIATORY',\n",
      "  'DEVOLUTIONARY',\n",
      "  'DIALYPETALOUS',\n",
      "  'DICHLAMYDEOUS',\n",
      "  'DOCUMENTARILY',\n",
      "  'DUODECIMALLY',\n",
      "  'EDACIOUSLY',\n",
      "  'EDUCATIONALLY',\n",
      "  'EFFICACIOUSLY',\n",
      "  'ELOCUTIONARY',\n",
      "  'ELUCIDATORY',\n",
      "  'ENANTIOSTYLOUS',\n",
      "  'ENCOURAGINGLY',\n",
      "  'ENUNCIATORY',\n",
      "  'EQUANIMOUSLY',\n",
      "  'EQUATIONALLY',\n",
      "  'EQUATORIALLY',\n",
      "  'EQUILIBRATORY',\n",
      "  'EQUINOCTIALLY',\n",
      "  'EQUIPONDERANCY',\n",
      "  'EQUIPROBABILITY',\n",
      "  'EQUIVOCALITY',\n",
      "  'EQUIVOCALLY',\n",
      "  'EQUIVOCATINGLY',\n",
      "  'EQUIVOCATORY',\n",
      "  'ERYSIPELATOUS',\n",
      "  'EUCARYOTIC',\n",
      "  'EUDIOMETRICALLY',\n",
      "  'EUGEOSYNCLINAL',\n",
      "  'EUKARYOTIC',\n",
      "  'EULOGISTICALLY',\n",
      "  'EUPHONICALLY',\n",
      "  'EUPHORICALLY',\n",
      "  'EVOLUTIONARILY',\n",
      "  'EVOLUTIONARY',\n",
      "  'EXCLUSIONARY',\n",
      "  'EXCOMMUNICATORY',\n",
      "  'EXPOSTULATINGLY',\n",
      "  'FACETIOUSLY',\n",
      "  'GELATINOUSLY',\n",
      "  'GEMMIPAROUSLY',\n",
      "  'GENITOURINARY',\n",
      "  'GESTICULATORY',\n",
      "  'GRANDILOQUENTLY',\n",
      "  'GREGARIOUSLY',\n",
      "  'HALFSERIOUSLY',\n",
      "  'HELLACIOUSLY',\n",
      "  'HETEROSEXUALITY',\n",
      "  'HOMOSEXUALITY',\n",
      "  'HYALURONIDASE',\n",
      "  'HYALURONIDASES',\n",
      "  'HYDROPNEUMATIC',\n",
      "  ... 149 more items ]\n"
     ]
    }
   ],
   "source": [
    "var all = [],\n",
    "    // map of vowels and Y to powers of 2\n",
    "    bits = { 'A': 1, 'E': 2, 'I': 4, 'O': 8, 'U': 16, 'Y': 32 };\n",
    "                        \n",
    "for (var word of dict) {\n",
    "    vowels = 0;\n",
    "    \n",
    "    for (var letter of word) {      \n",
    "        // if the letter is a vowel or Y, set the bit in vowels corresponding to this letter\n",
    "        if (letter in bits) {\n",
    "            vowels |= bits[letter];\n",
    "        }\n",
    "        \n",
    "        // if all vowels and Y have been found in the word, stop looking\n",
    "        if (vowels == 63) {\n",
    "            all.push(word);\n",
    "            break;\n",
    "        }\n",
    "    }\n",
    "}\n",
    "\n",
    "console.log(all);"
   ]
  },
  {
   "cell_type": "markdown",
   "metadata": {},
   "source": [
    "### What is the big-O complexity of the solution?\n",
    "\n",
    "The solution is $O(n)$ for an input word of length $n$.\n",
    "\n",
    "### What is another way of solving the problem?\n",
    "\n",
    "Other ways of solving the problem are either directly equivalent to or less efficient than this method.  \n",
    "For example, we could search that a word contains each vowel and Y, independently ($O(n)$, with a larger coefficient of $n$ than in the original solution):"
   ]
  },
  {
   "cell_type": "code",
   "execution_count": null,
   "metadata": {
    "deletable": false,
    "editable": false,
    "run_control": {
     "frozen": true
    }
   },
   "outputs": [],
   "source": [
    "dict.filter(word => (/A/.test(word) && \n",
    "                     /E/.test(word) && \n",
    "                     /I/.test(word) && \n",
    "                     /O/.test(word) && \n",
    "                     /U/.test(word) && \n",
    "                     /Y/.test(word)));"
   ]
  },
  {
   "cell_type": "markdown",
   "metadata": {},
   "source": [
    "### Is there a faster solution?\n",
    "\n",
    "There is no faster solution: in the worst case (either the word contains all of the vowels, with a unique vowel at the end of the word, or the word contains all but one of the vowels, with a consonant at the end of the word), all $n$ letters in a word must be examined."
   ]
  },
  {
   "cell_type": "markdown",
   "metadata": {},
   "source": [
    "# What words contain all of the vowels and Y, in alphabetical order?"
   ]
  },
  {
   "cell_type": "code",
   "execution_count": 7,
   "metadata": {},
   "outputs": [
    {
     "data": {
      "text/plain": [
       "[ 'ABSTEMIOUSLY',\n",
       "  'ADVENTITIOUSLY',\n",
       "  'FACETIOUSLY',\n",
       "  'HALFSERIOUSLY' ]"
      ]
     },
     "execution_count": 7,
     "metadata": {},
     "output_type": "execute_result"
    }
   ],
   "source": [
    "// match any number of non-vowel characters, then A, then any number of non-vowel characters or A,\n",
    "// then E, then any number of non-vowel characters or E, etc.\n",
    "dict.filter(word => /^[^AEIOUY]*A[^EIOUY]*E[^AIOUY]*I[^AEOUY]*O[^AEIUY]*U[^AEIOY]*Y[^AEIOU]*$/.test(word));"
   ]
  },
  {
   "cell_type": "markdown",
   "metadata": {},
   "source": [
    "### What is the big-O complexity of the solution?\n",
    "\n",
    "The solution is $O(n)$ for an input word of length $n$ (with the coefficient of $n$ depending on the [regex matcher implementation](https://en.wikibooks.org/wiki/Regular_Expressions/Implementation)).\n",
    "\n",
    "### What is another way of solving the problem?\n",
    "\n",
    "Other ways of solving the problem are either directly equivalent to or less efficient than this method.  \n",
    "For example, we could remove all of the letters that are not vowels or Y, then check that the result is \"AEIOUY\", possibly with repeated letters ($O(n)$):"
   ]
  },
  {
   "cell_type": "code",
   "execution_count": null,
   "metadata": {
    "deletable": false,
    "editable": false,
    "run_control": {
     "frozen": true
    }
   },
   "outputs": [],
   "source": [
    "dict.filter(word => /^A+E+I+O+U+Y+$/.test(word.replace(/[^AEIOUY]/g, '')));"
   ]
  },
  {
   "cell_type": "markdown",
   "metadata": {},
   "source": [
    "### Is there a faster solution?\n",
    "\n",
    "There is no faster solution: in the worst case (the word contains all of the vowels in alphabetical order, without Y or with the only Y at the end of the word), all $n$ letters in a word must be examined to check for a match with this regular expression."
   ]
  },
  {
   "cell_type": "markdown",
   "metadata": {},
   "source": [
    "# What letter makes the most appearances in a single word, and what is that word?"
   ]
  },
  {
   "cell_type": "code",
   "execution_count": 9,
   "metadata": {
    "scrolled": true
   },
   "outputs": [
    {
     "name": "stdout",
     "output_type": "stream",
     "text": [
      "{ S: \n",
      "   [ 'CLASSLESSNESSES',\n",
      "     'POSSESSEDNESSES',\n",
      "     'SENSELESSNESSES',\n",
      "     'STRESSLESSNESS',\n",
      "     'SUCCESSLESSNESS' ] }\n"
     ]
    }
   ],
   "source": [
    "// return the letter(s) that appears most frequently in word, and the number of appearances\n",
    "function freqLetter(word) {\n",
    "    var freqs = {};\n",
    "    \n",
    "    // map each letter to the number of times it appears in the word\n",
    "    for (var letter of word) {\n",
    "        freqs[letter] = freqs[letter] ? (freqs[letter]+1) : 1;\n",
    "    }\n",
    "    \n",
    "    var maxFreq = 0, \n",
    "        maxLetter = [];\n",
    "    \n",
    "    // find the letter(s) with the most appearances\n",
    "    for (var letter in freqs) {\n",
    "        if (freqs[letter] > maxFreq) {\n",
    "            maxFreq = freqs[letter];\n",
    "            maxLetter = [letter];\n",
    "            \n",
    "        } else if (freqs[letter] == maxFreq) {\n",
    "            maxLetter.push(letter);\n",
    "        }\n",
    "    }\n",
    "    \n",
    "    return { maxFreq, maxLetter };\n",
    "}\n",
    "\n",
    "// maxLetterAll: the letter(s) that appear most frequently in any word, mapped \n",
    "// to a list of the word(s) in which they appear most frequently\n",
    "var maxFreqAll = 0, \n",
    "    maxLetterAll = {};\n",
    "\n",
    "for (var word of dict) {\n",
    "    // find the most frequent letter(s) in this word\n",
    "    var { maxFreq, maxLetter } = freqLetter(word);\n",
    "    \n",
    "    // this word has a letter(s) that appears more frequently than the previous most\n",
    "    // frequent letter(s)\n",
    "    if (maxFreq > maxFreqAll) {\n",
    "        maxFreqAll = maxFreq;\n",
    "        \n",
    "        maxLetterAll = {};\n",
    "        for (var l of maxLetter) {\n",
    "            maxLetterAll[l] = [word];\n",
    "        }\n",
    "        \n",
    "    // this word has a letter(s) that appears with the same frequency as the previous\n",
    "    // most frequent letter(s)\n",
    "    } else if (maxFreq == maxFreqAll) {\n",
    "        \n",
    "        for (var l of maxLetter) {\n",
    "            if (!maxLetterAll[l]) {\n",
    "                maxLetterAll[l] = [];\n",
    "            }\n",
    "            maxLetterAll[l].push(word);\n",
    "        }\n",
    "    }\n",
    "}\n",
    "\n",
    "console.log(maxLetterAll);"
   ]
  },
  {
   "cell_type": "markdown",
   "metadata": {},
   "source": [
    "### What is the big-O complexity of the solution?\n",
    "\n",
    "### What is another way of solving the problem?\n",
    "\n"
   ]
  },
  {
   "cell_type": "code",
   "execution_count": null,
   "metadata": {},
   "outputs": [],
   "source": []
  },
  {
   "cell_type": "markdown",
   "metadata": {},
   "source": [
    "### Is there a faster solution?"
   ]
  },
  {
   "cell_type": "markdown",
   "metadata": {},
   "source": [
    "# What words are the longest anagrams of each other?"
   ]
  },
  {
   "cell_type": "code",
   "execution_count": 9,
   "metadata": {},
   "outputs": [
    {
     "name": "stdout",
     "output_type": "stream",
     "text": [
      "[ [ 'ALGORITHMICALLY', 'LOGARITHMICALLY' ],\n",
      "  [ 'ALTITUDINARIANS', 'LATITUDINARIANS' ],\n",
      "  [ 'ATTENTIVENESSES', 'TENTATIVENESSES' ],\n",
      "  [ 'AUTORADIOGRAPHS', 'RADIOAUTOGRAPHS' ],\n",
      "  [ 'AUTORADIOGRAPHY', 'RADIOAUTOGRAPHY' ],\n",
      "  [ 'BIOPSYCHOLOGIES', 'PSYCHOBIOLOGIES' ],\n",
      "  [ 'CHROMATOGRAPHER', 'RECHROMATOGRAPH' ],\n",
      "  [ 'CONCESSIONAIRES', 'CONCESSIONARIES' ],\n",
      "  [ 'CONSERVATIONIST', 'CONVERSATIONIST' ],\n",
      "  [ 'CORRELATIVENESS', 'OVERCENTRALISES' ],\n",
      "  [ 'COUNTERCHARMING', 'COUNTERMARCHING' ],\n",
      "  [ 'DECIMALISATIONS', 'IDIOMATICALNESS', 'MEDICALISATIONS' ],\n",
      "  [ 'DECIMALIZATIONS', 'MEDICALIZATIONS' ],\n",
      "  [ 'DEMANDINGNESSES', 'MADDENINGNESSES' ],\n",
      "  [ 'ELECTROMAGNETIC', 'MAGNETOELECTRIC' ],\n",
      "  [ 'ENDEARINGNESSES', 'ENGRAINEDNESSES' ],\n",
      "  [ 'GAMOGENETICALLY', 'GEOMAGNETICALLY' ],\n",
      "  [ 'GEOHYDROLOGISTS', 'HYDROGEOLOGISTS' ],\n",
      "  [ 'GRAMOPHONICALLY',\n",
      "    'MONOGRAPHICALLY',\n",
      "    'NOMOGRAPHICALLY',\n",
      "    'PHONOGRAMICALLY' ],\n",
      "  [ 'IMPERSCRIPTIBLE', 'IMPRESCRIPTIBLE' ],\n",
      "  [ 'MACROPHOTOGRAPH', 'PHOTOMACROGRAPH' ],\n",
      "  [ 'MICROPHOTOGRAPH', 'PHOTOMICROGRAPH' ],\n",
      "  [ 'PATHOPHYSIOLOGY', 'PHYSIOPATHOLOGY' ],\n",
      "  [ 'PHOTOTELEGRAPHS', 'TELEPHOTOGRAPHS' ],\n",
      "  [ 'PHOTOTELEGRAPHY', 'TELEPHOTOGRAPHY' ],\n",
      "  [ 'RELATIVISATIONS', 'REVITALISATIONS' ],\n",
      "  [ 'RELATIVIZATIONS', 'REVITALIZATIONS' ],\n",
      "  [ 'RUMMELGUMPTIONS', 'RUMMLEGUMPTIONS' ],\n",
      "  [ 'STATELESSNESSES', 'TASTELESSNESSES' ] ]\n"
     ]
    }
   ],
   "source": [
    "// map of letters to unique primes\n",
    "var primes = { 'A': 2, 'B': 3, 'C': 5, 'D': 7, 'E': 11, 'F': 13, 'G': 17, 'H': 19, 'I': 23,\n",
    "               'J': 29, 'K': 31, 'L': 37, 'M': 41, 'N': 43, 'O': 47, 'P': 53, 'Q': 59, 'R': 61,\n",
    "               'S': 67, 'T': 71, 'U': 73, 'V': 79, 'W': 83, 'X': 89, 'Y': 97, 'Z': 101 };\n",
    " \n",
    "// hash each word as a product of the primes corresponding to its letters\n",
    "var hashmap = {};\n",
    "for (var word of dict) {\n",
    "    var key = word.split('').reduce((prod, letter) => primes[letter] * prod, 1);\n",
    "\n",
    "    if (hashmap[key]) {\n",
    "        hashmap[key].push(word);\n",
    "    } else {\n",
    "        hashmap[key] = [word];\n",
    "    }\n",
    "}\n",
    "\n",
    "var maxLen = 0, \n",
    "    maxAna = [];\n",
    "for (var key in hashmap) {\n",
    "    // multiple words had the same hash (i.e., these words are anagrams of each other)\n",
    "    if (hashmap[key].length > 1) {\n",
    "        var anaLen = hashmap[key][0].length; // length of the words\n",
    "    \n",
    "        // these words are the same length as the previous longest anagrams\n",
    "        if (anaLen == maxLen) {\n",
    "            maxAna.push(hashmap[key]);\n",
    "            \n",
    "        // these words are longer than the previous longest anagrams\n",
    "        } else if (anaLen > maxLen) {\n",
    "            maxLen = anaLen;\n",
    "            maxAna = [hashmap[key]];\n",
    "        }\n",
    "    }\n",
    "}\n",
    "\n",
    "console.log(maxAna);"
   ]
  },
  {
   "cell_type": "markdown",
   "metadata": {},
   "source": [
    "### What is the big-O complexity of the solution?\n",
    "\n",
    "### What is another way of solving the problem?\n",
    "\n"
   ]
  },
  {
   "cell_type": "code",
   "execution_count": null,
   "metadata": {},
   "outputs": [],
   "source": []
  },
  {
   "cell_type": "markdown",
   "metadata": {},
   "source": [
    "### Is there a faster solution?"
   ]
  },
  {
   "cell_type": "markdown",
   "metadata": {},
   "source": [
    "# Scrabble cheater\n",
    "Write a program that takes a Scrabble rack as an argument and returns all valid Scrabble words that can be constructed from that rack, along with their Scrabble scores, sorted by score."
   ]
  },
  {
   "cell_type": "code",
   "execution_count": 10,
   "metadata": {},
   "outputs": [
    {
     "name": "stdout",
     "output_type": "stream",
     "text": [
      "[ [ 17, 'FEEZE' ],\n",
      "  [ 17, 'FEAZE' ],\n",
      "  [ 16, 'FAZE' ],\n",
      "  [ 15, 'FEZ' ],\n",
      "  [ 15, 'FIZ' ],\n",
      "  [ 12, 'ZEE' ],\n",
      "  [ 12, 'ZEA' ],\n",
      "  [ 11, 'ZA' ],\n",
      "  [ 6, 'FIE' ],\n",
      "  [ 6, 'FEE' ],\n",
      "  [ 6, 'FAE' ],\n",
      "  [ 5, 'IF' ],\n",
      "  [ 5, 'FA' ],\n",
      "  [ 5, 'EF' ],\n",
      "  [ 5, 'FE' ],\n",
      "  [ 2, 'EE' ],\n",
      "  [ 2, 'AE' ],\n",
      "  [ 2, 'AI' ],\n",
      "  [ 2, 'EA' ] ]\n"
     ]
    }
   ],
   "source": [
    "function cheat(rack) {  \n",
    "    // map of letters to unique primes\n",
    "    const primes = { 'A': 2, 'B': 3, 'C': 5, 'D': 7, 'E': 11, 'F': 13, 'G': 17, 'H': 19, 'I': 23,\n",
    "                     'J': 29, 'K': 31, 'L': 37, 'M': 41, 'N': 43, 'O': 47, 'P': 53, 'Q': 59, 'R': 61,\n",
    "                     'S': 67, 'T': 71, 'U': 73, 'V': 79, 'W': 83, 'X': 89, 'Y': 97, 'Z': 101 };\n",
    "    \n",
    "    // hash the rack as a product of primes\n",
    "    var rackHash = rack.split('').reduce((prod, letter) => primes[letter] * prod, 1);\n",
    "\n",
    "    var valid = [], \n",
    "        factoredHash, subset;\n",
    "\n",
    "    // for each word, check whether the rack hash can be (at least partially) factored by its letters\n",
    "    for (var word of dict) {\n",
    "        factoredHash = rackHash; // rack hash being factored\n",
    "        subset = true;           // whether this word is a subset of the rack\n",
    "\n",
    "        for (var letter of word) {\n",
    "            // check if the prime corresponding to this letter is a factor of the rack hash (prime product)\n",
    "            if (factoredHash % primes[letter] == 0) {\n",
    "                // the letter is in the rack, so factor it out from the hash (\"remove it from the rack\")\n",
    "                factoredHash /= primes[letter];\n",
    "                \n",
    "            } else {\n",
    "                // the letter is not in the rack, so this word can't be made from this rack\n",
    "                subset = false;\n",
    "                break;\n",
    "            }\n",
    "        }\n",
    "        \n",
    "        if (subset) {\n",
    "            valid.push(word);\n",
    "        }\n",
    "    }\n",
    "    \n",
    "    // scores for each letter in Scrabble\n",
    "    const scores = { 'A': 1, 'C': 3, 'B': 3, 'E': 1, 'D': 2, 'G': 2,\n",
    "                     'F': 4, 'I': 1, 'H': 4, 'K': 5, 'J': 8, 'M': 3,\n",
    "                     'L': 1, 'O': 1, 'N': 1, 'Q': 10, 'P': 3, 'S': 1,\n",
    "                     'R': 1, 'U': 1, 'T': 1, 'W': 4, 'V': 4, 'Y': 4,\n",
    "                     'X': 8, 'Z': 10 }\n",
    "    \n",
    "    // map valid words to their scores\n",
    "    valid = valid.map(word => ([word.split('').reduce((sum, letter) => scores[letter] + sum, 0),\n",
    "                                word]));\n",
    "    // sort valid words by decreasing score\n",
    "    valid.sort((a, b) => a[0] > b[0] ? -1 : 1);\n",
    "    \n",
    "    return valid;\n",
    "}\n",
    "\n",
    "console.log(cheat('ZAEFIEE'));"
   ]
  },
  {
   "cell_type": "markdown",
   "metadata": {},
   "source": [
    "## Bonus\n",
    "Modify your program to allow blank tiles, which can be used as any letter but contribute no points to the word score. "
   ]
  },
  {
   "cell_type": "code",
   "execution_count": 11,
   "metadata": {},
   "outputs": [
    {
     "name": "stdout",
     "output_type": "stream",
     "text": [
      "[ [ 17, 'FEAZES' ],\n",
      "  [ 17, 'FEAZED' ],\n",
      "  [ 17, 'FEAZE' ],\n",
      "  [ 17, 'FRIEZE' ],\n",
      "  [ 16, 'FEEZE' ],\n",
      "  [ 16, 'FRIZE' ],\n",
      "  [ 16, 'FAZES' ],\n",
      "  [ 16, 'FUZEE' ],\n",
      "  [ 16, 'FAZE' ],\n",
      "  [ 16, 'FEZES' ],\n",
      "  [ 16, 'HAFIZ' ],\n",
      "  [ 16, 'FAZED' ],\n",
      "  [ 15, 'FIZ' ],\n",
      "  [ 15, 'ZARF' ],\n",
      "  [ 15, 'FEZ' ],\n",
      "  [ 15, 'FIZZ' ],\n",
      "  [ 15, 'FUZE' ],\n",
      "  [ 15, 'FRIZ' ],\n",
      "  [ 15, 'ZIFF' ],\n",
      "  [ 13, 'AVIZE' ],\n",
      "  [ 13, 'ZOEAE' ],\n",
      "  [ 13, 'PEAZE' ],\n",
      "  [ 13, 'WEIZE' ],\n",
      "  [ 13, 'PEIZE' ],\n",
      "  [ 13, 'LEAZE' ],\n",
      "  [ 13, 'RAZEE' ],\n",
      "  [ 13, 'BAIZE' ],\n",
      "  [ 13, 'AIZLE' ],\n",
      "  [ 13, 'TEAZE' ],\n",
      "  [ 13, 'ZAIRE' ],\n",
      "  [ 13, 'SEIZE' ],\n",
      "  [ 13, 'SEAZE' ],\n",
      "  [ 13, 'AZIDE' ],\n",
      "  [ 13, 'AZINE' ],\n",
      "  [ 13, 'MAIZE' ],\n",
      "  [ 13, 'CEAZE' ],\n",
      "  [ 12, 'DAZE' ],\n",
      "  [ 12, 'ZOEA' ],\n",
      "  [ 12, 'MAZE' ],\n",
      "  [ 12, 'ZITE' ],\n",
      "  [ 12, 'GEEZ' ],\n",
      "  [ 12, 'ZEA' ],\n",
      "  [ 12, 'ZETA' ],\n",
      "  [ 12, 'NAZI' ],\n",
      "  [ 12, 'HAZE' ],\n",
      "  [ 12, 'NAZE' ],\n",
      "  [ 12, 'ZILA' ],\n",
      "  [ 12, 'MZEE' ],\n",
      "  [ 12, 'RIZA' ],\n",
      "  [ 12, 'KAZI' ],\n",
      "  [ 12, 'JEEZ' ],\n",
      "  [ 12, 'MEZE' ],\n",
      "  [ 12, 'RAZE' ],\n",
      "  [ 12, 'ZEAL' ],\n",
      "  [ 12, 'ZATI' ],\n",
      "  [ 12, 'ZEAS' ],\n",
      "  [ 12, 'SIZE' ],\n",
      "  [ 12, 'BIZE' ],\n",
      "  [ 12, 'ZEES' ],\n",
      "  [ 12, 'ZINE' ],\n",
      "  [ 12, 'LAZE' ],\n",
      "  [ 12, 'ZEE' ],\n",
      "  [ 12, 'ADZE' ],\n",
      "  [ 12, 'ZEIN' ],\n",
      "  [ 12, 'PIZE' ],\n",
      "  [ 12, 'IZAR' ],\n",
      "  [ 12, 'ZEZE' ],\n",
      "  [ 12, 'GAZE' ],\n",
      "  [ 11, 'ZEK' ],\n",
      "  [ 11, 'ZEL' ],\n",
      "  [ 11, 'BEZ' ],\n",
      "  [ 11, 'ZIN' ],\n",
      "  [ 11, 'BIZ' ],\n",
      "  [ 11, 'ZAS' ],\n",
      "  [ 11, 'MIZ' ],\n",
      "  [ 11, 'LEZ' ],\n",
      "  [ 11, 'ZED' ],\n",
      "  [ 11, 'AZO' ],\n",
      "  [ 11, 'RIZ' ],\n",
      "  [ 11, 'CAZ' ],\n",
      "  [ 11, 'SEZ' ],\n",
      "  [ 11, 'JIZ' ],\n",
      "  [ 11, 'WIZ' ],\n",
      "  [ 11, 'ZIP' ],\n",
      "  [ 11, 'ZAG' ],\n",
      "  [ 11, 'ZIT' ],\n",
      "  [ 11, 'ZAP' ],\n",
      "  [ 11, 'SAZ' ],\n",
      "  [ 11, 'REZ' ],\n",
      "  [ 11, 'ZIZ' ],\n",
      "  [ 11, 'ZAX' ],\n",
      "  [ 11, 'ADZ' ],\n",
      "  [ 11, 'ZOA' ],\n",
      "  [ 11, 'ZEP' ],\n",
      "  [ 11, 'ZIG' ],\n",
      "  [ 11, 'ZEX' ],\n",
      "  [ 11, 'ZA' ],\n",
      "  [ 10, 'ZO' ],\n",
      "  [ 8, 'FERIAE' ],\n",
      "  [ 8, 'FAERIE' ],\n",
      "  ... 330 more items ]\n"
     ]
    }
   ],
   "source": [
    "// use '_' to represent a blank tile in the rack\n",
    "function cheatWithBlanks(rack) {\n",
    "    // map of letters to unique primes\n",
    "    // (map blank tiles to 1 so that they do not contribute to the rack hash)\n",
    "    const primes = { 'A': 2, 'B': 3, 'C': 5, 'D': 7, 'E': 11, 'F': 13, 'G': 17, 'H': 19, 'I': 23,\n",
    "                     'J': 29, 'K': 31, 'L': 37, 'M': 41, 'N': 43, 'O': 47, 'P': 53, 'Q': 59, 'R': 61,\n",
    "                     'S': 67, 'T': 71, 'U': 73, 'V': 79, 'W': 83, 'X': 89, 'Y': 97, 'Z': 101, '_': 1 };\n",
    "    \n",
    "    // hash the rack as a product of primes\n",
    "    var rackHash = rack.split('').reduce((prod, letter) => primes[letter] * prod, 1);\n",
    "    \n",
    "    // count the blank tiles\n",
    "    var blanks = rack.match(/_/g);\n",
    "    blanks = blanks ? blanks.length : 0;\n",
    "\n",
    "    // scores for each letter in Scrabble\n",
    "    const scores = { 'A': 1, 'C': 3, 'B': 3, 'E': 1, 'D': 2, 'G': 2,\n",
    "                     'F': 4, 'I': 1, 'H': 4, 'K': 5, 'J': 8, 'M': 3,\n",
    "                     'L': 1, 'O': 1, 'N': 1, 'Q': 10, 'P': 3, 'S': 1,\n",
    "                     'R': 1, 'U': 1, 'T': 1, 'W': 4, 'V': 4, 'Y': 4,\n",
    "                     'X': 8, 'Z': 10 }\n",
    "    \n",
    "    var valid = [], \n",
    "        factoredHash, blanksLeft, score, subset;\n",
    "\n",
    "    // for each word, check whether the rack hash can be (at least partially) factored by its letters\n",
    "    for (var word of dict) {\n",
    "        factoredHash = rackHash; // rack hash being factored\n",
    "        blanksLeft = blanks;     // how many blank tiles are left to use\n",
    "        score = 0;               // score for this word\n",
    "        subset = true;           // whether this word is a subset of the rack\n",
    "\n",
    "        for (var letter of word) {\n",
    "            // check if the prime corresponding to this letter is a factor of the rack hash (prime product)\n",
    "            if (factoredHash % primes[letter] == 0) {\n",
    "                // the letter is in the rack, so factor it out from the hash (\"remove it from the rack\")\n",
    "                factoredHash /= primes[letter];\n",
    "    \n",
    "                score += scores[letter]; // add this letter to the score\n",
    "                \n",
    "            } else if (blanksLeft) {\n",
    "                // the letter is not in the rack, but we can use a blank tile to represent it\n",
    "                blanksLeft -= 1;\n",
    "                \n",
    "            } else {\n",
    "                // the letter is not in the rack, and we have no blank tiles left\n",
    "                subset = false;\n",
    "                break;\n",
    "            }\n",
    "        }\n",
    "        \n",
    "        if (subset) {\n",
    "            valid.push([score, word]);\n",
    "        }\n",
    "    }\n",
    "    \n",
    "    // sort valid words by decreasing score\n",
    "    valid.sort((a, b) => a[0] > b[0] ? -1 : 1);\n",
    "    \n",
    "    return valid;\n",
    "}\n",
    "\n",
    "console.log(cheatWithBlanks('ZAEFIE_'));"
   ]
  },
  {
   "cell_type": "code",
   "execution_count": null,
   "metadata": {},
   "outputs": [],
   "source": []
  }
 ],
 "metadata": {
  "kernelspec": {
   "display_name": "Javascript (Node.js)",
   "language": "javascript",
   "name": "javascript"
  },
  "language_info": {
   "file_extension": ".js",
   "mimetype": "application/javascript",
   "name": "javascript",
   "version": "8.9.4"
  },
  "toc": {
   "nav_menu": {
    "height": "295px",
    "width": "358px"
   },
   "number_sections": false,
   "sideBar": true,
   "skip_h1_title": false,
   "title_cell": "Table of Contents",
   "title_sidebar": "Contents",
   "toc_cell": false,
   "toc_position": {
    "height": "591px",
    "left": "510px",
    "top": "216.133px",
    "width": "334px"
   },
   "toc_section_display": true,
   "toc_window_display": false
  }
 },
 "nbformat": 4,
 "nbformat_minor": 2
}
