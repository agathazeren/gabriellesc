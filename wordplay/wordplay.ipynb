{
 "cells": [
  {
   "cell_type": "code",
   "execution_count": 1,
   "metadata": {
    "scrolled": true
   },
   "outputs": [
    {
     "name": "stdout",
     "output_type": "stream",
     "text": [
      "267752 words in total\n"
     ]
    }
   ],
   "source": [
    "var fetch = require('node-fetch');\n",
    "\n",
    "var src = 'https://raw.githubusercontent.com/jesstess/Scrabble/master/scrabble/sowpods.txt';\n",
    "var words;\n",
    "\n",
    "fetch(src)\n",
    "    .then(resp => resp.text())\n",
    "    .then(text => (words = text.split(/\\r*\\n/g)))\n",
    "    .then(() => console.log(words.length + ' words in total'));"
   ]
  },
  {
   "cell_type": "markdown",
   "metadata": {},
   "source": [
    "### What words contain \"UU\"?"
   ]
  },
  {
   "cell_type": "code",
   "execution_count": 2,
   "metadata": {},
   "outputs": [
    {
     "data": {
      "text/plain": [
       "[ 'BUSUUTI',\n",
       "  'BUSUUTIS',\n",
       "  'CARDUUS',\n",
       "  'CARDUUSES',\n",
       "  'CONTINUUM',\n",
       "  'CONTINUUMS',\n",
       "  'DUUMVIR',\n",
       "  'DUUMVIRAL',\n",
       "  'DUUMVIRATE',\n",
       "  'DUUMVIRATES',\n",
       "  'DUUMVIRI',\n",
       "  'DUUMVIRS',\n",
       "  'INDIVIDUUM',\n",
       "  'LITUUS',\n",
       "  'LITUUSES',\n",
       "  'MENSTRUUM',\n",
       "  'MENSTRUUMS',\n",
       "  'MUTUUM',\n",
       "  'MUTUUMS',\n",
       "  'MUUMUU',\n",
       "  'MUUMUUS',\n",
       "  'PARAMENSTRUUM',\n",
       "  'PARAMENSTRUUMS',\n",
       "  'RESIDUUM',\n",
       "  'RESIDUUMS',\n",
       "  'SQUUSH',\n",
       "  'SQUUSHED',\n",
       "  'SQUUSHES',\n",
       "  'SQUUSHING',\n",
       "  'TRIDUUM',\n",
       "  'TRIDUUMS',\n",
       "  'ULTRAVACUUM',\n",
       "  'ULTRAVACUUMS',\n",
       "  'VACUUM',\n",
       "  'VACUUMED',\n",
       "  'VACUUMING',\n",
       "  'VACUUMS',\n",
       "  'WELTANSCHAUUNG',\n",
       "  'WELTANSCHAUUNGS' ]"
      ]
     },
     "execution_count": 2,
     "metadata": {},
     "output_type": "execute_result"
    }
   ],
   "source": [
    "words.filter(elem => elem.match(/UU/));"
   ]
  },
  {
   "cell_type": "markdown",
   "metadata": {},
   "source": [
    "### What words contain \"Q\" without \"U\"?"
   ]
  },
  {
   "cell_type": "code",
   "execution_count": 3,
   "metadata": {},
   "outputs": [
    {
     "data": {
      "text/plain": [
       "[ 'FAQIR',\n",
       "  'FAQIRS',\n",
       "  'INQILAB',\n",
       "  'INQILABS',\n",
       "  'MBAQANGA',\n",
       "  'MBAQANGAS',\n",
       "  'NIQAB',\n",
       "  'NIQABS',\n",
       "  'QABALA',\n",
       "  'QABALAH',\n",
       "  'QABALAHS',\n",
       "  'QABALAS',\n",
       "  'QABALISM',\n",
       "  'QABALISMS',\n",
       "  'QABALIST',\n",
       "  'QABALISTIC',\n",
       "  'QABALISTS',\n",
       "  'QADI',\n",
       "  'QADIS',\n",
       "  'QAID',\n",
       "  'QAIDS',\n",
       "  'QAIMAQAM',\n",
       "  'QAIMAQAMS',\n",
       "  'QALAMDAN',\n",
       "  'QALAMDANS',\n",
       "  'QANAT',\n",
       "  'QANATS',\n",
       "  'QASIDA',\n",
       "  'QASIDAS',\n",
       "  'QAT',\n",
       "  'QATS',\n",
       "  'QAWWAL',\n",
       "  'QAWWALI',\n",
       "  'QAWWALIS',\n",
       "  'QAWWALS',\n",
       "  'QI',\n",
       "  'QIBLA',\n",
       "  'QIBLAS',\n",
       "  'QIGONG',\n",
       "  'QIGONGS',\n",
       "  'QINDAR',\n",
       "  'QINDARKA',\n",
       "  'QINDARS',\n",
       "  'QINTAR',\n",
       "  'QINTARS',\n",
       "  'QIS',\n",
       "  'QOPH',\n",
       "  'QOPHS',\n",
       "  'QORMA',\n",
       "  'QORMAS',\n",
       "  'QWERTIES',\n",
       "  'QWERTY',\n",
       "  'QWERTYS',\n",
       "  'SHEQALIM',\n",
       "  'SHEQEL',\n",
       "  'SHEQELS',\n",
       "  'TALAQ',\n",
       "  'TALAQS',\n",
       "  'TRANQ',\n",
       "  'TRANQS',\n",
       "  'TSADDIQ',\n",
       "  'TSADDIQIM',\n",
       "  'TSADDIQS',\n",
       "  'TZADDIQ',\n",
       "  'TZADDIQIM',\n",
       "  'TZADDIQS',\n",
       "  'WAQF',\n",
       "  'WAQFS',\n",
       "  'YAQONA',\n",
       "  'YAQONAS' ]"
      ]
     },
     "execution_count": 3,
     "metadata": {},
     "output_type": "execute_result"
    }
   ],
   "source": [
    "words.filter(elem => elem.match(/^[^U]*Q[^U]*$/));"
   ]
  },
  {
   "cell_type": "markdown",
   "metadata": {},
   "source": [
    "### What letters, if any, never appear doubled?"
   ]
  },
  {
   "cell_type": "code",
   "execution_count": 4,
   "metadata": {},
   "outputs": [
    {
     "name": "stdout",
     "output_type": "stream",
     "text": [
      "[ 'Q', 'X' ]\n"
     ]
    }
   ],
   "source": [
    "var undoubled = 'ABCDEFGHIJKLMNOPQRSTUVWXYZ'.split('');\n",
    "\n",
    "for (var elem of words) {\n",
    "    if (!undoubled) {\n",
    "        break;\n",
    "    }\n",
    "\n",
    "    var letters = elem.match(/([A-Z])\\1/g);\n",
    "    if (letters) {\n",
    "        letters.forEach(letter => {\n",
    "            var i = undoubled.indexOf(letter[0]);\n",
    "            if (i != -1) {\n",
    "                undoubled.splice(i, 1);\n",
    "            }\n",
    "        });\n",
    "    }\n",
    "}\n",
    "\n",
    "console.log(undoubled);"
   ]
  },
  {
   "cell_type": "markdown",
   "metadata": {},
   "source": [
    "### What is the longest palindrome?"
   ]
  },
  {
   "cell_type": "code",
   "execution_count": 5,
   "metadata": {},
   "outputs": [
    {
     "name": "stdout",
     "output_type": "stream",
     "text": [
      "[ 'ROTAVATOR' ]\n"
     ]
    }
   ],
   "source": [
    "var pals = words.filter(elem => {\n",
    "    var start = 0, end = elem.length - 1;\n",
    "\n",
    "    while (start < end) {\n",
    "        if (elem[start] != elem[end]) {\n",
    "            return false;\n",
    "        }\n",
    "        start += 1;\n",
    "        end -= 1;\n",
    "    }\n",
    "    return true;\n",
    "});\n",
    "\n",
    "var maxLen = 0, maxPal = [];\n",
    "for (var pal of pals) {\n",
    "    var palLen = pal.length;\n",
    "\n",
    "    if (palLen == maxLen) {\n",
    "        maxLen = palLen;\n",
    "        maxPal.push(pal);\n",
    "    } else if (palLen > maxLen) {\n",
    "        maxLen = palLen;\n",
    "        maxPal = [pal];\n",
    "    }\n",
    "}\n",
    "\n",
    "console.log(maxPal);"
   ]
  },
  {
   "cell_type": "markdown",
   "metadata": {},
   "source": [
    "### What words contain all of the vowels and Y, in any order?"
   ]
  },
  {
   "cell_type": "code",
   "execution_count": 6,
   "metadata": {},
   "outputs": [
    {
     "name": "stdout",
     "output_type": "stream",
     "text": [
      "[ 'ABSTEMIOUSLY',\n",
      "  'ADVENTITIOUSLY',\n",
      "  'AUTOECIOUSLY',\n",
      "  'FACETIOUSLY',\n",
      "  'HALFSERIOUSLY',\n",
      "  'SACRILEGIOUSLY' ]\n"
     ]
    }
   ],
   "source": [
    "var any = words.filter(elem => elem.match(/.*A.*E.*I.*O.*U.*Y/));\n",
    "console.log(any);"
   ]
  },
  {
   "cell_type": "markdown",
   "metadata": {},
   "source": [
    "### What words contain all of the vowels and Y, in alphabetical order?"
   ]
  },
  {
   "cell_type": "code",
   "execution_count": 7,
   "metadata": {},
   "outputs": [
    {
     "data": {
      "text/plain": [
       "[ 'ABSTEMIOUSLY',\n",
       "  'ADVENTITIOUSLY',\n",
       "  'FACETIOUSLY',\n",
       "  'HALFSERIOUSLY' ]"
      ]
     },
     "execution_count": 7,
     "metadata": {},
     "output_type": "execute_result"
    }
   ],
   "source": [
    "any.filter(elem => elem.match(/[AEIOUY]/g).reduce((prev, curr) => curr >= prev ? curr : false));"
   ]
  },
  {
   "cell_type": "markdown",
   "metadata": {},
   "source": [
    "### What letter makes the most appearances in a single word, and what is that word?"
   ]
  },
  {
   "cell_type": "code",
   "execution_count": 8,
   "metadata": {
    "scrolled": true
   },
   "outputs": [
    {
     "name": "stdout",
     "output_type": "stream",
     "text": [
      "{ S: \n",
      "   [ 'CLASSLESSNESSES',\n",
      "     'POSSESSEDNESSES',\n",
      "     'SENSELESSNESSES',\n",
      "     'STRESSLESSNESS',\n",
      "     'SUCCESSLESSNESS' ] }\n"
     ]
    }
   ],
   "source": [
    "var freqs = { 'A': 0, 'B': 0, 'C': 0, 'D': 0, 'E': 0, 'F': 0, 'G': 0, 'H': 0, 'I': 0,\n",
    "              'J': 0, 'K': 0, 'L': 0, 'M': 0, 'N': 0, 'O': 0, 'P': 0, 'Q': 0, 'R': 0,\n",
    "              'S': 0, 'T': 0, 'U': 0, 'V': 0, 'W': 0, 'X': 0, 'Y': 0, 'Z': 0 };\n",
    "\n",
    "var maxFreq = 0, maxLetter = {};\n",
    "\n",
    "for (var word of words) {\n",
    "    for (var letter of word) {\n",
    "        freqs[letter] += 1;\n",
    "    }\n",
    "\n",
    "    for (var letter in freqs) {  \n",
    "        // letter freq is greater in this word than previous max freq of this letter\n",
    "        if (freqs[letter] > maxFreq) {\n",
    "            maxFreq = freqs[letter];\n",
    "            maxLetter = { [letter]: [word] };\n",
    "\n",
    "        // letter freq is equal in this word to max freq of this (or another) letter elsewhere\n",
    "        } else if (freqs[letter] && freqs[letter] == maxFreq) {\n",
    "            if (maxLetter[letter]) {\n",
    "                maxLetter[letter].push(word);\n",
    "            } else {\n",
    "                maxLetter[letter] = [word];\n",
    "            }\n",
    "        }\n",
    "    \n",
    "        // reset freq\n",
    "        freqs[letter] = 0;\n",
    "    \n",
    "    }\n",
    "}\n",
    "\n",
    "console.log(maxLetter);"
   ]
  },
  {
   "cell_type": "markdown",
   "metadata": {},
   "source": [
    "### What words are the longest anagrams of each other?"
   ]
  },
  {
   "cell_type": "code",
   "execution_count": 9,
   "metadata": {},
   "outputs": [
    {
     "name": "stdout",
     "output_type": "stream",
     "text": [
      "[ [ 'ALGORITHMICALLY', 'LOGARITHMICALLY' ],\n",
      "  [ 'ALTITUDINARIANS', 'LATITUDINARIANS' ],\n",
      "  [ 'ATTENTIVENESSES', 'TENTATIVENESSES' ],\n",
      "  [ 'AUTORADIOGRAPHS', 'RADIOAUTOGRAPHS' ],\n",
      "  [ 'AUTORADIOGRAPHY', 'RADIOAUTOGRAPHY' ],\n",
      "  [ 'BIOPSYCHOLOGIES', 'PSYCHOBIOLOGIES' ],\n",
      "  [ 'CHROMATOGRAPHER', 'RECHROMATOGRAPH' ],\n",
      "  [ 'CONCESSIONAIRES', 'CONCESSIONARIES' ],\n",
      "  [ 'CONSERVATIONIST', 'CONVERSATIONIST' ],\n",
      "  [ 'CORRELATIVENESS', 'OVERCENTRALISES' ],\n",
      "  [ 'COUNTERCHARMING', 'COUNTERMARCHING' ],\n",
      "  [ 'DECIMALISATIONS', 'IDIOMATICALNESS', 'MEDICALISATIONS' ],\n",
      "  [ 'DECIMALIZATIONS', 'MEDICALIZATIONS' ],\n",
      "  [ 'DEMANDINGNESSES', 'MADDENINGNESSES' ],\n",
      "  [ 'ELECTROMAGNETIC', 'MAGNETOELECTRIC' ],\n",
      "  [ 'ENDEARINGNESSES', 'ENGRAINEDNESSES' ],\n",
      "  [ 'GAMOGENETICALLY', 'GEOMAGNETICALLY' ],\n",
      "  [ 'GEOHYDROLOGISTS', 'HYDROGEOLOGISTS' ],\n",
      "  [ 'GRAMOPHONICALLY',\n",
      "    'MONOGRAPHICALLY',\n",
      "    'NOMOGRAPHICALLY',\n",
      "    'PHONOGRAMICALLY' ],\n",
      "  [ 'IMPERSCRIPTIBLE', 'IMPRESCRIPTIBLE' ],\n",
      "  [ 'MACROPHOTOGRAPH', 'PHOTOMACROGRAPH' ],\n",
      "  [ 'MICROPHOTOGRAPH', 'PHOTOMICROGRAPH' ],\n",
      "  [ 'PATHOPHYSIOLOGY', 'PHYSIOPATHOLOGY' ],\n",
      "  [ 'PHOTOTELEGRAPHS', 'TELEPHOTOGRAPHS' ],\n",
      "  [ 'PHOTOTELEGRAPHY', 'TELEPHOTOGRAPHY' ],\n",
      "  [ 'RELATIVISATIONS', 'REVITALISATIONS' ],\n",
      "  [ 'RELATIVIZATIONS', 'REVITALIZATIONS' ],\n",
      "  [ 'RUMMELGUMPTIONS', 'RUMMLEGUMPTIONS' ],\n",
      "  [ 'STATELESSNESSES', 'TASTELESSNESSES' ] ]\n"
     ]
    }
   ],
   "source": [
    "var primes = { 'A': 2, 'B': 3, 'C': 5, 'D': 7, 'E': 11, 'F': 13, 'G': 17, 'H': 19, 'I': 23,\n",
    "               'J': 29, 'K': 31, 'L': 37, 'M': 41, 'N': 43, 'O': 47, 'P': 53, 'Q': 59, 'R': 61,\n",
    "               'S': 67, 'T': 71, 'U': 73, 'V': 79, 'W': 83, 'X': 89, 'Y': 97, 'Z': 101 };\n",
    "    \n",
    "var map = {};\n",
    "for (var word of words) {\n",
    "    let hash = word.split('').reduce((prod, letter) => primes[letter] * prod, 1);\n",
    "\n",
    "    if (map[hash]) {\n",
    "        map[hash].push(word);\n",
    "    } else {\n",
    "        map[hash] = [word];\n",
    "    }\n",
    "}\n",
    "\n",
    "var maxLen = 0, maxAna = [];\n",
    "for (var ana in map) {\n",
    "    if (map[ana].length > 1) {\n",
    "        var anaLen = map[ana][0].length;\n",
    "    \n",
    "        if (anaLen == maxLen) {\n",
    "            maxLen = anaLen;\n",
    "            maxAna.push(map[ana]);\n",
    "        } else if (anaLen > maxLen) {\n",
    "            maxLen = anaLen;\n",
    "            maxAna = [map[ana]];\n",
    "        }\n",
    "    }\n",
    "}\n",
    "\n",
    "console.log(maxAna);"
   ]
  }
 ],
 "metadata": {
  "kernelspec": {
   "display_name": "Javascript (Node.js)",
   "language": "javascript",
   "name": "javascript"
  },
  "language_info": {
   "file_extension": ".js",
   "mimetype": "application/javascript",
   "name": "javascript",
   "version": "8.9.4"
  }
 },
 "nbformat": 4,
 "nbformat_minor": 2
}
